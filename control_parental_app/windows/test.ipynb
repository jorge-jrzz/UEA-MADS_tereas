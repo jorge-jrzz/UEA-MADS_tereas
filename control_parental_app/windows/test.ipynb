{
 "cells": [
  {
   "cell_type": "code",
   "execution_count": 6,
   "metadata": {},
   "outputs": [
    {
     "data": {
      "text/plain": [
       "'C:\\\\Users\\\\jorge\\\\AppData\\\\Local\\\\BraveSoftware\\\\Brave-Browser\\\\Application\\\\brave.exe'"
      ]
     },
     "execution_count": 6,
     "metadata": {},
     "output_type": "execute_result"
    }
   ],
   "source": [
    "stt = \"C:\\\\Users\\\\jorge\\\\AppData\\\\Local\\\\BraveSoftware\\\\Brave-Browser\\\\Application\\\\brave.exe\"\n",
    "\n",
    "stt.split(\",\")[0]"
   ]
  },
  {
   "cell_type": "code",
   "execution_count": 33,
   "metadata": {},
   "outputs": [
    {
     "name": "stdout",
     "output_type": "stream",
     "text": [
      "Icon extracted successfully\n"
     ]
    }
   ],
   "source": [
    "from icoextract import IconExtractor, IconExtractorError\n",
    "\n",
    "try:\n",
    "    extractor = IconExtractor(Path(\"C:\\\\Program Files\\\\CMake\\\\bin\\\\cmake-gui.exe\"))\n",
    "\n",
    "    # Export the first group icon to a .ico file\n",
    "    extractor.export_icon(\"a.ico\", num=0)\n",
    "    data = extractor.get_icon(num=0)\n",
    "    if data:\n",
    "        print(\"Icon extracted successfully\")\n",
    "    else:\n",
    "        print(\"No icons available\")\n",
    "\n",
    "except IconExtractorError:\n",
    "    print(\"No icons available\")\n",
    "    pass"
   ]
  },
  {
   "cell_type": "code",
   "execution_count": 15,
   "metadata": {},
   "outputs": [
    {
     "data": {
      "text/plain": [
       "('application/x-msdownload', None)"
      ]
     },
     "execution_count": 15,
     "metadata": {},
     "output_type": "execute_result"
    }
   ],
   "source": [
    "from mimetypes import guess_type\n",
    "from pathlib import Path\n",
    "\n",
    "ii = Path(\"C:\\\\Program Files\\\\Git\\\\mingw64\\\\share\\\\git\\\\git-for-windows.ico\")\n",
    "ii = Path(\"C:\\\\Users\\\\jorge\\\\AppData\\\\Local\\\\BraveSoftware\\\\Brave-Browser\\\\Application\\\\brave.exe\")\n",
    "guess_type(ii)"
   ]
  },
  {
   "cell_type": "code",
   "execution_count": 19,
   "metadata": {},
   "outputs": [],
   "source": [
    "ddda = {\n",
    "        \"name\": \"Canva\",\n",
    "        \"publisher\": \"Canva Pty Ltd\",\n",
    "        \"version\": \"1.106.0\",\n",
    "        \"install_location\": \"\",\n",
    "        \"icon\": \"C:\\\\Users\\\\jorge\\\\AppData\\\\Local\\\\Programs\\\\Canva\\\\Canva.exe,0\",\n",
    "        \"source\": \"External\"\n",
    "    }\n",
    "\n",
    "import shutil\n",
    "from pathlib import Path\n",
    "from mimetypes import guess_type\n",
    "from typing import Dict, List\n",
    "from icoextract import IconExtractor, IconExtractorError\n",
    "\n",
    "\n",
    "def icon_extractor(app_data: Dict[str, str]):\n",
    "    icons_path = Path(\"icons\")\n",
    "    icons_path.mkdir(exist_ok=True)\n",
    "\n",
    "    icon_data = app_data.get(\"icon\")\n",
    "    if icon_data and icon_data != \"\":\n",
    "        icon_path = Path(icon_data.split(\",\")[0])\n",
    "        mime_type, _ = guess_type(icon_path)\n",
    "        if mime_type.startswith(\"image\"):\n",
    "            shutil.copy(icon_path, icons_path)\n",
    "        if mime_type.startswith(\"application\"):\n",
    "            try:\n",
    "                extractor = IconExtractor(icon_path)\n",
    "                extractor.export_icon(icons_path / f\"{icon_path.stem}.ico\", num=0)\n",
    "            except IconExtractorError:\n",
    "                print(\"No icons available\")\n",
    "\n",
    "icon_extractor(ddda)"
   ]
  },
  {
   "cell_type": "code",
   "execution_count": 2,
   "metadata": {},
   "outputs": [
    {
     "name": "stdout",
     "output_type": "stream",
     "text": [
      "Archivos .ico (no recursivo):\n",
      "\n",
      "Archivos .ico (recursivo):\n",
      "C:\\Program Files\\WindowsApps\\AppleInc.iCloud_15.3.146.0_x64__nzyj5cx40ttqa\\iCloud\\ApplePhotoStreams.exe\n",
      "C:\\Program Files\\WindowsApps\\AppleInc.iCloud_15.3.146.0_x64__nzyj5cx40ttqa\\iCloud\\ApplePhotoStreamsDownloader.exe\n",
      "C:\\Program Files\\WindowsApps\\AppleInc.iCloud_15.3.146.0_x64__nzyj5cx40ttqa\\iCloud\\APSDaemon.exe\n",
      "C:\\Program Files\\WindowsApps\\AppleInc.iCloud_15.3.146.0_x64__nzyj5cx40ttqa\\iCloud\\defaults.exe\n",
      "C:\\Program Files\\WindowsApps\\AppleInc.iCloud_15.3.146.0_x64__nzyj5cx40ttqa\\iCloud\\EReporter.exe\n",
      "C:\\Program Files\\WindowsApps\\AppleInc.iCloud_15.3.146.0_x64__nzyj5cx40ttqa\\iCloud\\iCloudChrome.exe\n",
      "C:\\Program Files\\WindowsApps\\AppleInc.iCloud_15.3.146.0_x64__nzyj5cx40ttqa\\iCloud\\iCloudCKKS.exe\n",
      "C:\\Program Files\\WindowsApps\\AppleInc.iCloud_15.3.146.0_x64__nzyj5cx40ttqa\\iCloud\\iCloudDrive.exe\n",
      "C:\\Program Files\\WindowsApps\\AppleInc.iCloud_15.3.146.0_x64__nzyj5cx40ttqa\\iCloud\\iCloudFirefox.exe\n",
      "C:\\Program Files\\WindowsApps\\AppleInc.iCloud_15.3.146.0_x64__nzyj5cx40ttqa\\iCloud\\iCloudHome.exe\n",
      "C:\\Program Files\\WindowsApps\\AppleInc.iCloud_15.3.146.0_x64__nzyj5cx40ttqa\\iCloud\\iCloudMigrate.exe\n",
      "C:\\Program Files\\WindowsApps\\AppleInc.iCloud_15.3.146.0_x64__nzyj5cx40ttqa\\iCloud\\iCloudOutlookConfig.exe\n",
      "C:\\Program Files\\WindowsApps\\AppleInc.iCloud_15.3.146.0_x64__nzyj5cx40ttqa\\iCloud\\iCloudOutlookConfig64.exe\n",
      "C:\\Program Files\\WindowsApps\\AppleInc.iCloud_15.3.146.0_x64__nzyj5cx40ttqa\\iCloud\\iCloudPasswords.exe\n",
      "C:\\Program Files\\WindowsApps\\AppleInc.iCloud_15.3.146.0_x64__nzyj5cx40ttqa\\iCloud\\iCloudPasswordsExtensionHelper.exe\n",
      "C:\\Program Files\\WindowsApps\\AppleInc.iCloud_15.3.146.0_x64__nzyj5cx40ttqa\\iCloud\\iCloudPhotos.exe\n",
      "C:\\Program Files\\WindowsApps\\AppleInc.iCloud_15.3.146.0_x64__nzyj5cx40ttqa\\iCloud\\iCloudPhotoViewer.exe\n",
      "C:\\Program Files\\WindowsApps\\AppleInc.iCloud_15.3.146.0_x64__nzyj5cx40ttqa\\iCloud\\plutil.exe\n",
      "C:\\Program Files\\WindowsApps\\AppleInc.iCloud_15.3.146.0_x64__nzyj5cx40ttqa\\iCloud\\secd.exe\n",
      "C:\\Program Files\\WindowsApps\\AppleInc.iCloud_15.3.146.0_x64__nzyj5cx40ttqa\\iCloud\\WebView2\\msedgewebview2.exe\n",
      "C:\\Program Files\\WindowsApps\\AppleInc.iCloud_15.3.146.0_x64__nzyj5cx40ttqa\\iCloud\\WebView2\\notification_helper.exe\n"
     ]
    }
   ],
   "source": [
    "from pathlib import Path\n",
    "\n",
    "# Ruta del directorio donde buscar\n",
    "directorio = Path(\"C:\\\\Program Files\\\\WindowsApps\\\\AppleInc.iCloud_15.3.146.0_x64__nzyj5cx40ttqa\")\n",
    "\n",
    "# Buscar archivos .ico en el directorio (no recursivo)\n",
    "archivos_ico = list(directorio.glob(\"*.exe\"))\n",
    "\n",
    "# Si deseas buscar de forma recursiva en subdirectorios:\n",
    "archivos_ico_rec = list(directorio.rglob(\"*.exe\"))\n",
    "\n",
    "# Mostrar resultados\n",
    "print(\"Archivos .ico (no recursivo):\")\n",
    "for archivo in archivos_ico:\n",
    "    print(archivo)\n",
    "    print(type(archivo))\n",
    "\n",
    "print(\"\\nArchivos .ico (recursivo):\")\n",
    "for archivo in archivos_ico_rec:\n",
    "    print(archivo)\n"
   ]
  },
  {
   "cell_type": "code",
   "execution_count": 1,
   "metadata": {},
   "outputs": [
    {
     "name": "stdout",
     "output_type": "stream",
     "text": [
      "El icono es suficientemente grande\n"
     ]
    }
   ],
   "source": [
    "from pathlib import Path\n",
    "from PIL import Image\n",
    "\n",
    "def is_icon_large_enough(icon_path: Path, min_width: int = 32, min_height: int = 32) -> bool:\n",
    "    \"\"\"\n",
    "    Verifica si el icono en 'icon_path' contiene al menos una imagen (frame)\n",
    "    con dimensiones mayores o iguales a min_width y min_height.\n",
    "    \"\"\"\n",
    "    try:\n",
    "        with Image.open(icon_path) as img:\n",
    "            # Algunos archivos .ico contienen múltiples imágenes (frames)\n",
    "            for frame in range(getattr(img, \"n_frames\", 1)):\n",
    "                if hasattr(img, \"n_frames\"):\n",
    "                    img.seek(frame)\n",
    "                width, height = img.size\n",
    "                if width >= min_width and height >= min_height:\n",
    "                    return True\n",
    "        return False\n",
    "    except Exception as e:\n",
    "        print(f\"Error al abrir el icono {icon_path}: {e}\")\n",
    "        return False\n",
    "\n",
    "# Ejemplo de uso:\n",
    "icon_file = Path(r\"icons\\Canva.ico\")\n",
    "if is_icon_large_enough(icon_file, 64, 64):\n",
    "    print(\"El icono es suficientemente grande\")\n",
    "else:\n",
    "    print(\"El icono es muy pequeño\")\n"
   ]
  },
  {
   "cell_type": "code",
   "execution_count": 2,
   "metadata": {},
   "outputs": [
    {
     "name": "stdout",
     "output_type": "stream",
     "text": [
      ".venv/uv.lock\n",
      "<class 'str'>\n"
     ]
    }
   ],
   "source": [
    "import shutil\n",
    "\n",
    "resutl = shutil.copy(\"uv.lock\", \".venv/\")\n",
    "print(resutl)\n",
    "print(type(resutl))"
   ]
  },
  {
   "cell_type": "code",
   "execution_count": 7,
   "metadata": {},
   "outputs": [
    {
     "data": {
      "text/plain": [
       "'D:\\\\GitHub\\\\parental-control\\\\icons\\\\Canva.ico'"
      ]
     },
     "execution_count": 7,
     "metadata": {},
     "output_type": "execute_result"
    }
   ],
   "source": [
    "from pathlib import Path\n",
    "\n",
    "sss = Path(r\"icons\\Canva.ico\")\n",
    "str(sss.resolve())"
   ]
  }
 ],
 "metadata": {
  "kernelspec": {
   "display_name": "Python 3",
   "language": "python",
   "name": "python3"
  },
  "language_info": {
   "codemirror_mode": {
    "name": "ipython",
    "version": 3
   },
   "file_extension": ".py",
   "mimetype": "text/x-python",
   "name": "python",
   "nbconvert_exporter": "python",
   "pygments_lexer": "ipython3",
   "version": "3.12.0"
  }
 },
 "nbformat": 4,
 "nbformat_minor": 2
}
